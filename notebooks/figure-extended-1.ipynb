{
 "cells": [
  {
   "cell_type": "markdown",
   "id": "97c417e6-cf12-4fb9-a9c7-6ef4240b1c7e",
   "metadata": {},
   "source": [
    "# Extended Data Figure 1"
   ]
  },
  {
   "cell_type": "code",
   "execution_count": null,
   "id": "21d6d41b-9985-465e-bfd5-61fc3f539444",
   "metadata": {},
   "outputs": [],
   "source": [
    "import numpy as np\n",
    "import pandas as pd\n",
    "import scipy.stats as sp_stats\n",
    "import matplotlib.pyplot as plt\n",
    "import seaborn as sns"
   ]
  },
  {
   "cell_type": "markdown",
   "id": "ff7d075f-541b-4883-9276-4a027b468e60",
   "metadata": {},
   "source": [
    "## Load Source Data"
   ]
  },
  {
   "cell_type": "code",
   "execution_count": null,
   "id": "b7713feb-75db-4941-a084-4e572ac553ce",
   "metadata": {},
   "outputs": [],
   "source": [
    "data_figext1_dist = pd.read_csv('../source-data/data-figext1-ecogdist.csv')"
   ]
  },
  {
   "cell_type": "markdown",
   "id": "42c404a9-311b-4228-b46d-ed37e76cacf4",
   "metadata": {},
   "source": [
    "## Scheduled ECoG Distributions"
   ]
  },
  {
   "cell_type": "code",
   "execution_count": null,
   "id": "eaf57674-d531-47e4-97b5-e88bc30924fd",
   "metadata": {},
   "outputs": [],
   "source": [
    "ff, pv = sp_stats.f_oneway(*np.array([v for v in data_figext1_dist.groupby(['Hour']).apply(lambda x: x['Count'].values.astype(float).ravel()).values]))\n",
    "\n",
    "plt.figure(figsize=(9,6))\n",
    "ax = plt.subplot(111)\n",
    "ax = sns.boxplot(x='Hour', y='Count', data=data_figext1_dist, fliersize=0, color='gray', ax=ax)\n",
    "ax.set_xticklabels(['12AM', '6AM', '12PM', '6PM'])\n",
    "ax.set_ylabel('Number of Scheduled iEEG Recordings')\n",
    "ax.set_xlabel('')\n",
    "ax.text(1, 800, 'F={:0.3f}\\np={:0.3f}'.format(ff, pv), fontdict={'fontsize': 16})\n",
    "plt.show()"
   ]
  }
 ],
 "metadata": {
  "kernelspec": {
   "display_name": "rs-2021-szriskconn",
   "language": "python",
   "name": "rs-2021-szriskconn"
  },
  "language_info": {
   "codemirror_mode": {
    "name": "ipython",
    "version": 3
   },
   "file_extension": ".py",
   "mimetype": "text/x-python",
   "name": "python",
   "nbconvert_exporter": "python",
   "pygments_lexer": "ipython3",
   "version": "3.10.4"
  }
 },
 "nbformat": 4,
 "nbformat_minor": 5
}
