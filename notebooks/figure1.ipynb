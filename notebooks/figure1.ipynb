{
 "cells": [
  {
   "cell_type": "markdown",
   "id": "97c417e6-cf12-4fb9-a9c7-6ef4240b1c7e",
   "metadata": {},
   "source": [
    "# Figure 1"
   ]
  },
  {
   "cell_type": "code",
   "execution_count": null,
   "id": "21d6d41b-9985-465e-bfd5-61fc3f539444",
   "metadata": {},
   "outputs": [],
   "source": [
    "import numpy as np\n",
    "import pandas as pd\n",
    "import matplotlib.pyplot as plt\n",
    "import seaborn as sns\n",
    "from scipy import ndimage"
   ]
  },
  {
   "cell_type": "markdown",
   "id": "3adb5e6e-4178-45ac-aedb-19adce4eadbd",
   "metadata": {},
   "source": [
    "## Figure 1d"
   ]
  },
  {
   "cell_type": "markdown",
   "id": "ff7d075f-541b-4883-9276-4a027b468e60",
   "metadata": {},
   "source": [
    "### Load Source Data"
   ]
  },
  {
   "cell_type": "code",
   "execution_count": null,
   "id": "b7713feb-75db-4941-a084-4e572ac553ce",
   "metadata": {},
   "outputs": [],
   "source": [
    "data_fig1d_fitphase = pd.read_csv('../source-data/data-fig1d-fitphase.csv')\n",
    "data_fig1d_fitauc = pd.read_csv('../source-data/data-fig1d-fitAUC.csv')"
   ]
  },
  {
   "cell_type": "markdown",
   "id": "42c404a9-311b-4228-b46d-ed37e76cacf4",
   "metadata": {},
   "source": [
    "### Polar Distribution"
   ]
  },
  {
   "cell_type": "code",
   "execution_count": null,
   "id": "eaf57674-d531-47e4-97b5-e88bc30924fd",
   "metadata": {},
   "outputs": [],
   "source": [
    "plt.figure(figsize=(3,3), dpi=300)\n",
    "ax = plt.subplot(111, projection='polar')\n",
    "\n",
    "ax.plot(data_fig1d_fitphase['phase'],\n",
    "        data_fig1d_fitphase.iloc[:,1:].mean(axis=1),\n",
    "        color='r')\n",
    "ax.fill_between(data_fig1d_fitphase['phase'],\n",
    "                data_fig1d_fitphase.iloc[:,1:].mean(axis=1) - data_fig1d_fitphase.iloc[:,1:].sem(axis=1),\n",
    "                data_fig1d_fitphase.iloc[:,1:].mean(axis=1) + data_fig1d_fitphase.iloc[:,1:].sem(axis=1),\n",
    "                color='r', alpha=0.1)\n",
    "\n",
    "\n",
    "ax.set_ylim(0, 1)\n",
    "ax.set_theta_offset(np.pi/2)\n",
    "ax.set_theta_direction(-1)\n",
    "ax.set_yticks([0, 0.25, 0.5, 0.75, 1.0])\n",
    "ax.set_xticks([0, np.pi/2, np.pi, 3*np.pi/2])\n",
    "plt.show()"
   ]
  },
  {
   "cell_type": "markdown",
   "id": "17cee245-643f-4f36-8a29-a81981606dbd",
   "metadata": {},
   "source": [
    "### Linearized Distribution"
   ]
  },
  {
   "cell_type": "code",
   "execution_count": null,
   "id": "10db8b9d-12db-4f45-9ce0-f49d9ef29948",
   "metadata": {},
   "outputs": [],
   "source": [
    "data_fig1d_fitphase_cyc2 = data_fig1d_fitphase.copy()\n",
    "data_fig1d_fitphase_cyc2['phase'] += 2*np.pi\n",
    "\n",
    "data_fig1d_fitphase_lin = pd.concat((data_fig1d_fitphase, data_fig1d_fitphase_cyc2), axis=0).reset_index(drop=True)\n",
    "\n",
    "plt.figure(figsize=(3,3), dpi=300)\n",
    "ax = plt.subplot(111)\n",
    "ax.plot(data_fig1d_fitphase_lin['phase'], data_fig1d_fitphase_lin.iloc[:, 1:].mean(axis=1), color='r')\n",
    "ax.fill_between(data_fig1d_fitphase_lin['phase'],\n",
    "                data_fig1d_fitphase_lin.iloc[:, 1:].mean(axis=1)-data_fig1d_fitphase_lin.iloc[:, 1:].sem(axis=1),\n",
    "                data_fig1d_fitphase_lin.iloc[:, 1:].mean(axis=1)+data_fig1d_fitphase_lin.iloc[:, 1:].sem(axis=1),\n",
    "                color='r', alpha=0.1)\n",
    "ax.set_ylim([0, 1])\n",
    "ax.set_yticks([0, 0.25, 0.5, 0.75, 1.0])\n",
    "ticks = [-np.pi, -np.pi/2, 0, np.pi/2,\n",
    "          np.pi, 3*np.pi/2, 2*np.pi, 5*np.pi/2,\n",
    "          3*np.pi]\n",
    "ax.set_xlim([ticks[0], ticks[-1]])\n",
    "ax.set_xticks(ticks)\n",
    "ax.grid(True)\n",
    "\n",
    "ax.set_xticklabels([r'-$\\pi$', r'-$\\pi/2$', r'$0$', r'$\\pi/2$',\n",
    "                    r'$\\pi$', r'$3\\pi/2$', r'$2\\pi$', r'$5\\pi/2$',\n",
    "                    r'$3\\pi$'], rotation=0)\n",
    "\n",
    "ax.set_ylabel('Seizure Risk')\n",
    "plt.show()"
   ]
  },
  {
   "cell_type": "markdown",
   "id": "73c43477-e151-4bb7-a7da-4255c28b5497",
   "metadata": {},
   "source": [
    "## Figure 1e"
   ]
  },
  {
   "cell_type": "markdown",
   "id": "27ebe5f5-2153-49cc-8965-261b623f2095",
   "metadata": {},
   "source": [
    "### Load Source Data"
   ]
  },
  {
   "cell_type": "code",
   "execution_count": null,
   "id": "bed0e84d-c0c2-4a26-9247-1c09fd769790",
   "metadata": {},
   "outputs": [],
   "source": [
    "data_fig1e_intra_ts = pd.read_csv('../source-data/data-fig1e-pop_intra_map_ts.csv').set_index('wavelet')\n",
    "data_fig1e_intra_pv = pd.read_csv('../source-data/data-fig1e-pop_intra_map_pv.csv').set_index('wavelet')\n",
    "data_fig1e_inter_ts = pd.read_csv('../source-data/data-fig1e-pop_inter_map_ts.csv').set_index('wavelet')\n",
    "data_fig1e_inter_pv = pd.read_csv('../source-data/data-fig1e-pop_inter_map_pv.csv').set_index('wavelet')"
   ]
  },
  {
   "cell_type": "markdown",
   "id": "90e99b3d-98e1-4f3a-bbe3-e6cf848f2a1b",
   "metadata": {},
   "source": [
    "### Local Connectivity"
   ]
  },
  {
   "cell_type": "code",
   "execution_count": null,
   "id": "0ec6a502-42ec-47c5-a31a-843445ae7fc7",
   "metadata": {},
   "outputs": [],
   "source": [
    "plt.figure(figsize=(5,4), dpi=300)\n",
    "ax = plt.subplot(111)\n",
    "sns.heatmap(data_fig1e_intra_ts, cmap='Reds',\n",
    "            vmin=0, vmax=20, cbar_kws={'label': 'Functional connectivity (t.s.)'})\n",
    "\n",
    "smooth_scale = 5\n",
    "z = ndimage.zoom(data_fig1e_intra_pv.to_numpy(), smooth_scale)       \n",
    "cntr = ax.contour(np.linspace(0, len(data_fig1e_intra_pv.columns), len(data_fig1e_intra_pv.columns) * smooth_scale),\n",
    "                  np.linspace(0, len(data_fig1e_intra_pv.index), len(data_fig1e_intra_pv.index) * smooth_scale),\n",
    "                  z, levels=(0.001, 0.01),\n",
    "                  colors='black',\n",
    "                  linewidths=[0.5,0.25],\n",
    "                  linestyles=['-', '--'])\n",
    "\n",
    "ax.axvline(np.abs(data_fig1e_intra_ts.columns.astype(float)-0*np.pi).argmin(), linestyle='--', linewidth=0.75, color='k')\n",
    "ax.axvline(np.abs(data_fig1e_intra_ts.columns.astype(float)-2*np.pi).argmin(), linestyle='--', linewidth=0.75, color='k')\n",
    "ax.axvline(np.abs(data_fig1e_intra_ts.columns.astype(float)-1*np.pi).argmin(), linestyle='-', linewidth=1, color='k')    \n",
    "\n",
    "#ticks = [int(float(tick.get_text())) for tick in ax.get_yticklabels()]\n",
    "#ax.set_yticklabels(ticks)   \n",
    "\n",
    "ticks = [np.argmin(np.abs(np.array(data_fig1e_intra_ts.columns.astype(float)) - ang))\n",
    "         for ang in [-np.pi, -np.pi/2, 0, np.pi/2,\n",
    "                     np.pi, 3*np.pi/2, 2*np.pi, 5*np.pi/2,\n",
    "                     3*np.pi]]\n",
    "ax.set_xticks(ticks)\n",
    "ax.set_xticklabels([r'-$\\pi$', r'-$\\pi/2$', r'$0$', r'$\\pi/2$',\n",
    "                    r'$\\pi$', r'$3\\pi/2$', r'$2\\pi$', r'$5\\pi/2$',\n",
    "                    r'$3\\pi$'], rotation=0)\n",
    "\n",
    "ax.set_ylabel('Frequency (Hz)')\n",
    "\n",
    "yticks = np.array([3, 8, 12, 30, 96])\n",
    "ticks = (np.log10(data_fig1e_intra_ts.index)[-1] - np.log10(yticks)) * (data_fig1e_intra_ts.shape[0] /\n",
    "                            (np.log10(data_fig1e_intra_ts.index)[-1] - \n",
    "                             np.log10(data_fig1e_intra_ts.index)[0]))\n",
    "ax.set_yticks(ticks[::-1])\n",
    "ax.set_yticklabels(yticks)\n",
    "\n",
    "ax.set_ylabel('Frequency (Hz)')\n",
    "\n",
    "plt.show()"
   ]
  },
  {
   "cell_type": "markdown",
   "id": "3bda0f5f-c958-4b91-bac7-3523d4be7f5f",
   "metadata": {},
   "source": [
    "### Long-Range Connectivity"
   ]
  },
  {
   "cell_type": "code",
   "execution_count": null,
   "id": "453ec00a-0cdb-4a12-a392-abe52ce1e53f",
   "metadata": {},
   "outputs": [],
   "source": [
    "plt.figure(figsize=(5,4), dpi=300)\n",
    "ax = plt.subplot(111)\n",
    "sns.heatmap(data_fig1e_inter_ts, cmap='Blues',\n",
    "            vmin=0, vmax=20, cbar_kws={'label': 'Functional connectivity (t.s.)'})\n",
    "\n",
    "smooth_scale = 5\n",
    "z = ndimage.zoom(data_fig1e_inter_pv.to_numpy(), smooth_scale)       \n",
    "cntr = ax.contour(np.linspace(0, len(data_fig1e_inter_pv.columns), len(data_fig1e_inter_pv.columns) * smooth_scale),\n",
    "                  np.linspace(0, len(data_fig1e_inter_pv.index), len(data_fig1e_inter_pv.index) * smooth_scale),\n",
    "                  z, levels=(0.001, 0.01),\n",
    "                  colors='black',\n",
    "                  linewidths=[0.5,0.25],\n",
    "                  linestyles=['-', '--'])\n",
    "\n",
    "ax.axvline(np.abs(data_fig1e_inter_ts.columns.astype(float)-0*np.pi).argmin(), linestyle='--', linewidth=0.75, color='k')\n",
    "ax.axvline(np.abs(data_fig1e_inter_ts.columns.astype(float)-2*np.pi).argmin(), linestyle='--', linewidth=0.75, color='k')\n",
    "ax.axvline(np.abs(data_fig1e_inter_ts.columns.astype(float)-1*np.pi).argmin(), linestyle='-', linewidth=1, color='k')    \n",
    "\n",
    "#ticks = [int(float(tick.get_text())) for tick in ax.get_yticklabels()]\n",
    "#ax.set_yticklabels(ticks)   \n",
    "\n",
    "ticks = [np.argmin(np.abs(np.array(data_fig1e_inter_ts.columns.astype(float)) - ang))\n",
    "         for ang in [-np.pi, -np.pi/2, 0, np.pi/2,\n",
    "                     np.pi, 3*np.pi/2, 2*np.pi, 5*np.pi/2,\n",
    "                     3*np.pi]]\n",
    "ax.set_xticks(ticks)\n",
    "ax.set_xticklabels([r'-$\\pi$', r'-$\\pi/2$', r'$0$', r'$\\pi/2$',\n",
    "                    r'$\\pi$', r'$3\\pi/2$', r'$2\\pi$', r'$5\\pi/2$',\n",
    "                    r'$3\\pi$'], rotation=0)\n",
    "\n",
    "yticks = np.array([3, 8, 12, 30, 96])\n",
    "ticks = (np.log10(data_fig1e_inter_ts.index)[-1] - np.log10(yticks)) * (data_fig1e_inter_ts.shape[0] /\n",
    "                            (np.log10(data_fig1e_inter_ts.index)[-1] - \n",
    "                             np.log10(data_fig1e_inter_ts.index)[0]))\n",
    "ax.set_yticks(ticks[::-1])\n",
    "ax.set_yticklabels(yticks)\n",
    "\n",
    "ax.set_ylabel('Frequency (Hz)')\n",
    "\n",
    "plt.show()"
   ]
  }
 ],
 "metadata": {
  "kernelspec": {
   "display_name": "rs-2021-szriskconn",
   "language": "python",
   "name": "rs-2021-szriskconn"
  },
  "language_info": {
   "codemirror_mode": {
    "name": "ipython",
    "version": 3
   },
   "file_extension": ".py",
   "mimetype": "text/x-python",
   "name": "python",
   "nbconvert_exporter": "python",
   "pygments_lexer": "ipython3",
   "version": "3.10.4"
  }
 },
 "nbformat": 4,
 "nbformat_minor": 5
}
