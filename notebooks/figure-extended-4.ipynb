{
 "cells": [
  {
   "cell_type": "markdown",
   "id": "97c417e6-cf12-4fb9-a9c7-6ef4240b1c7e",
   "metadata": {},
   "source": [
    "# Extended Data Figure 4"
   ]
  },
  {
   "cell_type": "code",
   "execution_count": null,
   "id": "21d6d41b-9985-465e-bfd5-61fc3f539444",
   "metadata": {},
   "outputs": [],
   "source": [
    "import numpy as np\n",
    "import pandas as pd\n",
    "import scipy.stats as sp_stats\n",
    "import matplotlib.pyplot as plt\n",
    "import seaborn as sns"
   ]
  },
  {
   "cell_type": "markdown",
   "id": "3e62d850-a37f-4b10-824b-13358171c127",
   "metadata": {},
   "source": [
    "## Extended Data Figure 4a"
   ]
  },
  {
   "cell_type": "markdown",
   "id": "ff7d075f-541b-4883-9276-4a027b468e60",
   "metadata": {},
   "source": [
    "### Load Source Data"
   ]
  },
  {
   "cell_type": "code",
   "execution_count": null,
   "id": "b7713feb-75db-4941-a084-4e572ac553ce",
   "metadata": {},
   "outputs": [],
   "source": [
    "data_figext4a_local = pd.read_csv('../source-data/data-figext4a-glm-fit-local.csv').set_index('NP_code')\n",
    "data_figext4a_local_ci= pd.read_csv('../source-data/data-figext4a-glm-fit-local-confintv.csv')\n",
    "data_figext4a_longrange = pd.read_csv('../source-data/data-figext4a-glm-fit-longrange.csv').set_index('NP_code')\n",
    "data_figext4a_longrange_ci = pd.read_csv('../source-data/data-figext4a-glm-fit-longrange-confintv.csv')"
   ]
  },
  {
   "cell_type": "markdown",
   "id": "00080bfe-465f-4539-af30-65deb98aec4c",
   "metadata": {},
   "source": [
    "### FC-IEA Cycle GLM Fits"
   ]
  },
  {
   "cell_type": "code",
   "execution_count": null,
   "id": "487ab14c-58e6-4046-a9d6-d77e66a4a522",
   "metadata": {},
   "outputs": [],
   "source": [
    "plt.figure(figsize=(9,6))\n",
    "ax = plt.subplot(111)\n",
    "ax.plot(data_figext4a_local.columns.astype(float),\n",
    "        data_figext4a_local.mean(axis=0), color='red', label='Local FC')\n",
    "ax.fill_between(data_figext4a_local.columns.astype(float),\n",
    "                data_figext4a_local.mean(axis=0)-data_figext4a_local.sem(axis=0),\n",
    "                data_figext4a_local.mean(axis=0)+data_figext4a_local.sem(axis=0),\n",
    "                alpha=0.1, color='red')\n",
    "ax.plot(data_figext4a_local_ci.iloc[:,0],\n",
    "        data_figext4a_local_ci.iloc[:,1],\n",
    "        color='k', linestyle='--', label='99.9% CI')\n",
    "        \n",
    "ax.set_xticks(np.log10(np.array([3, 8, 12, 30, 100])))\n",
    "ax.set_xticklabels(np.array([3, 8, 12, 30, 100]))\n",
    "ax.set_ylim([0, 0.16])\n",
    "ax.legend()\n",
    "plt.show()\n",
    "\n",
    "\n",
    "plt.figure(figsize=(9,6))\n",
    "ax = plt.subplot(111)\n",
    "ax.plot(data_figext4a_longrange.columns.astype(float),\n",
    "        data_figext4a_longrange.mean(axis=0), color='blue', label='Long-Range FC')\n",
    "ax.fill_between(data_figext4a_longrange.columns.astype(float),\n",
    "                data_figext4a_longrange.mean(axis=0)-data_figext4a_longrange.sem(axis=0),\n",
    "                data_figext4a_longrange.mean(axis=0)+data_figext4a_longrange.sem(axis=0),\n",
    "                alpha=0.1, color='blue')\n",
    "ax.plot(data_figext4a_longrange_ci.iloc[:,0],\n",
    "        data_figext4a_longrange_ci.iloc[:,1],\n",
    "        color='k', linestyle='--', label='99.9% CI')\n",
    "\n",
    "ax.set_xticks(np.log10(np.array([3, 8, 12, 30, 100])))\n",
    "ax.set_xticklabels(np.array([3, 8, 12, 30, 100]))\n",
    "ax.set_ylim([0, 0.16])\n",
    "ax.legend()\n",
    "plt.show()"
   ]
  },
  {
   "cell_type": "markdown",
   "id": "42c404a9-311b-4228-b46d-ed37e76cacf4",
   "metadata": {},
   "source": [
    "## Extended Data Figure 4b-f"
   ]
  },
  {
   "cell_type": "markdown",
   "id": "45fae698-4ed9-4051-ac4a-2cb25f1610f7",
   "metadata": {},
   "source": [
    "### Individual FC-IEA Distributions"
   ]
  },
  {
   "cell_type": "code",
   "execution_count": null,
   "id": "697e36f5-6786-432d-afaf-857cb1175561",
   "metadata": {},
   "outputs": [],
   "source": [
    "for fctype in ['local', 'longrange']:\n",
    "    for band in ['Delta', 'Theta', 'Alpha', 'Beta', 'Gamma']:\n",
    "        data_figext4bf = pd.read_csv('../source-data/data-figext4b-fc-{}-{}.csv'.format(fctype, band)).set_index('NP_code')\n",
    "        data_figext4bf.columns = data_figext4bf.columns.astype(float)\n",
    "        data_figext4bf = data_figext4bf.loc[data_figext4bf.apply(lambda x: x.idxmax(), axis=1).sort_values().index]\n",
    "\n",
    "        data_figext4bf_2pi = data_figext4bf.copy()\n",
    "        data_figext4bf_2pi.columns += (2*np.pi)\n",
    "        \n",
    "        data_figext4bf = pd.concat((data_figext4bf, data_figext4bf_2pi), axis=1)\n",
    "        \n",
    "        plt.figure(figsize=(5,4), dpi=300)\n",
    "        ax = plt.subplot(111)        \n",
    "        sns.heatmap(data_figext4bf, vmin=0, vmax=2.0, cmap='Blues' if fctype == 'longrange' else 'Reds')\n",
    "\n",
    "        ax.axvline(np.abs(data_figext4bf.columns-0*np.pi).argmin(), linestyle='--', linewidth=0.75, color='k')\n",
    "        ax.axvline(np.abs(data_figext4bf.columns-2*np.pi).argmin(), linestyle='--', linewidth=0.75, color='k')\n",
    "        ax.axvline(np.abs(data_figext4bf.columns-1*np.pi).argmin(), linestyle='-', linewidth=1, color='k')      \n",
    "\n",
    "        ticks = [np.argmin(np.abs(np.array(data_figext4bf.columns) - ang))\n",
    "                 for ang in [-np.pi, -np.pi/2, 0, np.pi/2,\n",
    "                             np.pi, 3*np.pi/2, 2*np.pi, 5*np.pi/2,\n",
    "                             3*np.pi]]\n",
    "        ax.set_xticks(ticks)\n",
    "        ax.set_xticklabels([r'-$\\pi$', r'-$\\pi/2$', r'$0$', r'$\\pi/2$',\n",
    "                            r'$\\pi$', r'$3\\pi/2$', r'$2\\pi$', r'$5\\pi/2$',\n",
    "                            r'$3\\pi$'], rotation=0)\n",
    "        ax.set_title('{}\\n{}'.format(fctype, band))\n",
    "        ax.set_ylabel('Subjects')\n",
    "        plt.show()"
   ]
  }
 ],
 "metadata": {
  "kernelspec": {
   "display_name": "rs-2021-szriskconn",
   "language": "python",
   "name": "rs-2021-szriskconn"
  },
  "language_info": {
   "codemirror_mode": {
    "name": "ipython",
    "version": 3
   },
   "file_extension": ".py",
   "mimetype": "text/x-python",
   "name": "python",
   "nbconvert_exporter": "python",
   "pygments_lexer": "ipython3",
   "version": "3.10.4"
  }
 },
 "nbformat": 4,
 "nbformat_minor": 5
}
