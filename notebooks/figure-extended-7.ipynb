{
 "cells": [
  {
   "cell_type": "markdown",
   "id": "97c417e6-cf12-4fb9-a9c7-6ef4240b1c7e",
   "metadata": {},
   "source": [
    "# Extended Data Figure 7"
   ]
  },
  {
   "cell_type": "code",
   "execution_count": null,
   "id": "21d6d41b-9985-465e-bfd5-61fc3f539444",
   "metadata": {},
   "outputs": [],
   "source": [
    "import numpy as np\n",
    "import pandas as pd\n",
    "import scipy.stats as sp_stats\n",
    "import matplotlib.pyplot as plt\n",
    "import seaborn as sns\n",
    "from scipy import ndimage"
   ]
  },
  {
   "cell_type": "markdown",
   "id": "7365b190-2b41-47d3-a968-d3d17bbbf248",
   "metadata": {},
   "source": [
    "## Extended Data Figure 5a-c"
   ]
  },
  {
   "cell_type": "markdown",
   "id": "ff7d075f-541b-4883-9276-4a027b468e60",
   "metadata": {},
   "source": [
    "### Load Source Data"
   ]
  },
  {
   "cell_type": "code",
   "execution_count": null,
   "id": "b7713feb-75db-4941-a084-4e572ac553ce",
   "metadata": {},
   "outputs": [],
   "source": [
    "data_figext7ac_prf = pd.read_csv('../source-data/data-figext7ac-forecast-performance.csv').set_index('NP_code')\n",
    "data_figext7ac_prf"
   ]
  },
  {
   "cell_type": "markdown",
   "id": "00080bfe-465f-4539-af30-65deb98aec4c",
   "metadata": {},
   "source": [
    "### Model Performance Comparisons"
   ]
  },
  {
   "cell_type": "code",
   "execution_count": null,
   "id": "487ab14c-58e6-4046-a9d6-d77e66a4a522",
   "metadata": {},
   "outputs": [],
   "source": [
    "sns.set_palette(['blue', 'gold'])\n",
    "\n",
    "### PRECISION\n",
    "plt.figure(figsize=(4,6), dpi=300)\n",
    "ax = plt.subplot(111)\n",
    "ax = sns.violinplot(x='Model', y='PRECISION', cut=2, split=False, data=data_figext7ac_prf, ax=ax)\n",
    "ax = sns.stripplot(x='Model', y='PRECISION', jitter=False, color='k', data=data_figext7ac_prf, ax=ax)\n",
    "ax = sns.lineplot(x='Model', y='PRECISION', hue='NP_code', palette='Greys', data=data_figext7ac_prf.reset_index(), ax=ax)\n",
    "ax.text(0.4, 1.1, 't={:0.2f}\\np={:0.3f}'.format(\n",
    "    *sp_stats.ttest_rel(data_figext7ac_prf[data_figext7ac_prf['Model'] == 'FC-Based Model']['PRECISION'],\n",
    "                        data_figext7ac_prf[data_figext7ac_prf['Model'] == 'IEA Cycle-Based Model']['PRECISION'])))\n",
    "ax.legend_.remove()\n",
    "ax.set_xlim([-0.5, 1.5])\n",
    "ax.set_ylim([-0.25, 1.25])\n",
    "plt.show()\n",
    "\n",
    "### RECALL\n",
    "plt.figure(figsize=(4,6), dpi=300)\n",
    "ax = plt.subplot(111)\n",
    "ax = sns.violinplot(x='Model', y='RECALL', cut=2, split=False, data=data_figext7ac_prf, ax=ax)\n",
    "ax = sns.stripplot(x='Model', y='RECALL', jitter=False, color='k', data=data_figext7ac_prf, ax=ax)\n",
    "ax = sns.lineplot(x='Model', y='RECALL', hue='NP_code', palette='Greys', data=data_figext7ac_prf.reset_index(), ax=ax)\n",
    "ax.text(0.4, 1.1, 't={:0.2f}\\np={:0.3f}'.format(\n",
    "    *sp_stats.ttest_rel(data_figext7ac_prf[data_figext7ac_prf['Model'] == 'FC-Based Model']['RECALL'],\n",
    "                        data_figext7ac_prf[data_figext7ac_prf['Model'] == 'IEA Cycle-Based Model']['RECALL'])))\n",
    "ax.legend_.remove()\n",
    "ax.set_xlim([-0.5, 1.5])\n",
    "ax.set_ylim([-0.25, 1.25])\n",
    "plt.show()\n",
    "\n",
    "### F1\n",
    "plt.figure(figsize=(4,6), dpi=300)\n",
    "ax = plt.subplot(111)\n",
    "ax = sns.violinplot(x='Model', y='F1', cut=2, split=False, data=data_figext7ac_prf, ax=ax)\n",
    "ax = sns.stripplot(x='Model', y='F1', jitter=False, color='k', data=data_figext7ac_prf, ax=ax)\n",
    "ax = sns.lineplot(x='Model', y='F1', hue='NP_code', palette='Greys', data=data_figext7ac_prf.reset_index(), ax=ax)\n",
    "ax.text(0.4, 1.1, 't={:0.2f}\\np={:0.3f}'.format(\n",
    "    *sp_stats.ttest_rel(data_figext7ac_prf[data_figext7ac_prf['Model'] == 'FC-Based Model']['F1'],\n",
    "                        data_figext7ac_prf[data_figext7ac_prf['Model'] == 'IEA Cycle-Based Model']['F1'])))\n",
    "ax.legend_.remove()\n",
    "ax.set_xlim([-0.5, 1.5])\n",
    "ax.set_ylim([-0.25, 1.25])\n",
    "plt.show()"
   ]
  },
  {
   "cell_type": "markdown",
   "id": "a1a405ee-a729-421d-a6ed-e8584af1a167",
   "metadata": {},
   "source": [
    "## Extended Data Figure 5d"
   ]
  },
  {
   "cell_type": "markdown",
   "id": "ad9558ed-63b0-4da5-b31b-ba37b6cdc547",
   "metadata": {},
   "source": [
    "### Load Source Data"
   ]
  },
  {
   "cell_type": "code",
   "execution_count": null,
   "id": "cb73c508-7e06-4190-9be2-951cf6dee616",
   "metadata": {},
   "outputs": [],
   "source": [
    "data_figext7d_roc = pd.read_csv('../source-data/data-figext7d-forecast-roc.csv').set_index('NP_code')\n",
    "data_figext7d_roc"
   ]
  },
  {
   "cell_type": "markdown",
   "id": "83290531-58c6-4401-8147-276a3bb5c003",
   "metadata": {},
   "source": [
    "### ROC Curve"
   ]
  },
  {
   "cell_type": "code",
   "execution_count": null,
   "id": "024240dc-7b5b-4bf0-8a1c-608880d68d53",
   "metadata": {},
   "outputs": [],
   "source": [
    "sns.set_palette(['gray', 'blue', 'gold'])\n",
    "\n",
    "roc_mu = data_figext7d_roc.groupby(['Model', 'bins']).mean().reset_index().dropna()\n",
    "roc_sd = data_figext7d_roc.groupby(['Model', 'bins']).sem().reset_index().dropna()\n",
    "\n",
    "plt.figure(figsize=(4,4), dpi=300)\n",
    "ax = plt.subplot(111)\n",
    "for typ in ['Shuffled Baseline', 'FC-Based Model', 'IEA Cycle-Based Model']:\n",
    "    ax.plot(roc_mu[roc_mu['Model'] == typ].sort_values(by='fpr')['fpr'],\n",
    "            roc_mu[roc_mu['Model'] == typ].sort_values(by='fpr')['tpr'], label=typ)\n",
    "    ax.fill_between(roc_mu[roc_mu['Model'] == typ].sort_values(by='fpr')['fpr'],\n",
    "                    roc_mu[roc_mu['Model'] == typ].sort_values(by='fpr')['tpr'] - roc_sd[roc_sd['Model'] == typ].sort_values(by='fpr')['tpr'],\n",
    "                    roc_mu[roc_mu['Model'] == typ].sort_values(by='fpr')['tpr'] + roc_sd[roc_sd['Model'] == typ].sort_values(by='fpr')['tpr'], alpha=0.2)\n",
    "                    \n",
    "ax.set_xlim([-0.01, 1.01])\n",
    "ax.set_ylim([-0.01, 1.01])\n",
    "ax.plot((0,1), (0,1), color='k', linestyle='--', linewidth=0.5)\n",
    "ax.set_xlabel('False Positive Rate')\n",
    "ax.set_ylabel('True Positive Rate')\n",
    "ax.legend()\n",
    "plt.show()"
   ]
  },
  {
   "cell_type": "code",
   "execution_count": null,
   "id": "6363668e-bcde-4f64-b051-ca4ebc6bdf00",
   "metadata": {},
   "outputs": [],
   "source": []
  }
 ],
 "metadata": {
  "kernelspec": {
   "display_name": "rs-2021-szriskconn",
   "language": "python",
   "name": "rs-2021-szriskconn"
  },
  "language_info": {
   "codemirror_mode": {
    "name": "ipython",
    "version": 3
   },
   "file_extension": ".py",
   "mimetype": "text/x-python",
   "name": "python",
   "nbconvert_exporter": "python",
   "pygments_lexer": "ipython3",
   "version": "3.10.4"
  }
 },
 "nbformat": 4,
 "nbformat_minor": 5
}
