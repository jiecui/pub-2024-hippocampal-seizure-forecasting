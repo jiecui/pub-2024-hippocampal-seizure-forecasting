{
 "cells": [
  {
   "cell_type": "markdown",
   "id": "97c417e6-cf12-4fb9-a9c7-6ef4240b1c7e",
   "metadata": {},
   "source": [
    "# Extended Data Figure 5"
   ]
  },
  {
   "cell_type": "code",
   "execution_count": null,
   "id": "21d6d41b-9985-465e-bfd5-61fc3f539444",
   "metadata": {},
   "outputs": [],
   "source": [
    "import numpy as np\n",
    "import pandas as pd\n",
    "import matplotlib.pyplot as plt\n",
    "import seaborn as sns\n",
    "from scipy import ndimage"
   ]
  },
  {
   "cell_type": "markdown",
   "id": "ff7d075f-541b-4883-9276-4a027b468e60",
   "metadata": {},
   "source": [
    "### Load Source Data"
   ]
  },
  {
   "cell_type": "code",
   "execution_count": null,
   "id": "b7713feb-75db-4941-a084-4e572ac553ce",
   "metadata": {},
   "outputs": [],
   "source": [
    "data_figext5_map_ts = pd.read_csv('../source-data/data-figext5-pop_pow_map_ts.csv').set_index('wavelet')\n",
    "data_figext5_map_pv = pd.read_csv('../source-data/data-figext5-pop_pow_map_pv.csv').set_index('wavelet')"
   ]
  },
  {
   "cell_type": "markdown",
   "id": "00080bfe-465f-4539-af30-65deb98aec4c",
   "metadata": {},
   "source": [
    "### FC-IEA Cycle GLM Fits"
   ]
  },
  {
   "cell_type": "code",
   "execution_count": null,
   "id": "487ab14c-58e6-4046-a9d6-d77e66a4a522",
   "metadata": {},
   "outputs": [],
   "source": [
    "plt.figure(figsize=(5,4), dpi=300)\n",
    "ax = plt.subplot(111)\n",
    "sns.heatmap(data_figext5_map_ts, cmap='Reds',\n",
    "            vmin=0, vmax=20, cbar_kws={'label': 'Functional connectivity (t.s.)'})\n",
    "\n",
    "smooth_scale = 5\n",
    "z = ndimage.zoom(data_figext5_map_pv.to_numpy(), smooth_scale)       \n",
    "cntr = ax.contour(np.linspace(0, len(data_figext5_map_pv.columns), len(data_figext5_map_pv.columns) * smooth_scale),\n",
    "                  np.linspace(0, len(data_figext5_map_pv.index), len(data_figext5_map_pv.index) * smooth_scale),\n",
    "                  z, levels=(0.001, 0.01),\n",
    "                  colors='black',\n",
    "                  linewidths=[0.5,0.25],\n",
    "                  linestyles=['-', '--'])\n",
    "\n",
    "ax.axvline(np.abs(data_figext5_map_pv.columns.astype(float)-0*np.pi).argmin(), linestyle='--', linewidth=0.75, color='k')\n",
    "ax.axvline(np.abs(data_figext5_map_pv.columns.astype(float)-2*np.pi).argmin(), linestyle='--', linewidth=0.75, color='k')\n",
    "ax.axvline(np.abs(data_figext5_map_pv.columns.astype(float)-1*np.pi).argmin(), linestyle='-', linewidth=1, color='k')    \n",
    "\n",
    "ticks = [np.argmin(np.abs(np.array(data_figext5_map_pv.columns.astype(float)) - ang))\n",
    "         for ang in [-np.pi, -np.pi/2, 0, np.pi/2,\n",
    "                     np.pi, 3*np.pi/2, 2*np.pi, 5*np.pi/2,\n",
    "                     3*np.pi]]\n",
    "ax.set_xticks(ticks)\n",
    "ax.set_xticklabels([r'-$\\pi$', r'-$\\pi/2$', r'$0$', r'$\\pi/2$',\n",
    "                    r'$\\pi$', r'$3\\pi/2$', r'$2\\pi$', r'$5\\pi/2$',\n",
    "                    r'$3\\pi$'], rotation=0)\n",
    "\n",
    "\n",
    "yticks = np.array([3, 8, 12, 30, 96])\n",
    "ticks = (np.log10(data_figext5_map_ts.index)[-1] - np.log10(yticks)) * (data_figext5_map_ts.shape[0] /\n",
    "                            (np.log10(data_figext5_map_ts.index)[-1] - \n",
    "                             np.log10(data_figext5_map_ts.index)[0]))\n",
    "ax.set_yticks(ticks[::-1])\n",
    "ax.set_yticklabels(yticks)\n",
    "\n",
    "ax.set_ylabel('Frequency (Hz)')\n",
    "\n",
    "plt.show()"
   ]
  },
  {
   "cell_type": "code",
   "execution_count": null,
   "id": "7fdcecc0-392a-45e1-933e-39fe20091988",
   "metadata": {},
   "outputs": [],
   "source": []
  }
 ],
 "metadata": {
  "kernelspec": {
   "display_name": "rs-2021-szriskconn",
   "language": "python",
   "name": "rs-2021-szriskconn"
  },
  "language_info": {
   "codemirror_mode": {
    "name": "ipython",
    "version": 3
   },
   "file_extension": ".py",
   "mimetype": "text/x-python",
   "name": "python",
   "nbconvert_exporter": "python",
   "pygments_lexer": "ipython3",
   "version": "3.10.4"
  }
 },
 "nbformat": 4,
 "nbformat_minor": 5
}
