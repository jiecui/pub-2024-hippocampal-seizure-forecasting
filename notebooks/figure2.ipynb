{
 "cells": [
  {
   "cell_type": "markdown",
   "id": "97c417e6-cf12-4fb9-a9c7-6ef4240b1c7e",
   "metadata": {},
   "source": [
    "# Figure 2"
   ]
  },
  {
   "cell_type": "code",
   "execution_count": null,
   "id": "21d6d41b-9985-465e-bfd5-61fc3f539444",
   "metadata": {},
   "outputs": [],
   "source": [
    "import numpy as np\n",
    "import pandas as pd\n",
    "import scipy.stats as sp_stats\n",
    "import matplotlib.pyplot as plt\n",
    "import seaborn as sns\n"
   ]
  },
  {
   "cell_type": "markdown",
   "id": "3adb5e6e-4178-45ac-aedb-19adce4eadbd",
   "metadata": {},
   "source": [
    "## Figure 2c"
   ]
  },
  {
   "cell_type": "markdown",
   "id": "ff7d075f-541b-4883-9276-4a027b468e60",
   "metadata": {},
   "source": [
    "### Load Source Data"
   ]
  },
  {
   "cell_type": "code",
   "execution_count": null,
   "id": "b7713feb-75db-4941-a084-4e572ac553ce",
   "metadata": {},
   "outputs": [],
   "source": [
    "data_fig2c_auc = pd.read_csv('../source-data/data-fig2c-auc.csv')"
   ]
  },
  {
   "cell_type": "markdown",
   "id": "42c404a9-311b-4228-b46d-ed37e76cacf4",
   "metadata": {},
   "source": [
    "### Performance Distribution per Model"
   ]
  },
  {
   "cell_type": "code",
   "execution_count": null,
   "id": "eaf57674-d531-47e4-97b5-e88bc30924fd",
   "metadata": {},
   "outputs": [],
   "source": [
    "data_fig2c_auc_melted = pd.melt(\n",
    "    value_vars=['Shuffled IEA Phase', 'Power-Based Model', 'FC-Based Model', 'IEA Cycle-Based Model'],\n",
    "    id_vars='NP_code',\n",
    "    var_name='type', value_name='AUC',\n",
    "    frame=data_fig2c_auc)\n",
    "\n",
    "plt.figure(figsize=(6,9), dpi=300)\n",
    "ax = plt.subplot(111)\n",
    "ax = sns.violinplot(x='type', y='AUC', cut=1, split=False, palette='Purples',\n",
    "                    order=['Shuffled IEA Phase', 'Power-Based Model', 'FC-Based Model', 'IEA Cycle-Based Model'],\n",
    "                    data=data_fig2c_auc_melted, ax=ax)\n",
    "ax = sns.stripplot(x='type', y='AUC', jitter=False, color='k',\n",
    "                   order=['Shuffled IEA Phase', 'Power-Based Model', 'FC-Based Model', 'IEA Cycle-Based Model'],\n",
    "                   data=data_fig2c_auc_melted, ax=ax)\n",
    "ax = sns.lineplot(x='type', y='AUC', hue='NP_code', palette='Greys',\n",
    "                  sort=True,\n",
    "                  data=data_fig2c_auc_melted, ax=ax)\n",
    "ax.set_ylabel('Area Under the Curve')\n",
    "ax.set_xticklabels(['Shuffled\\nIEA Phase', 'Power-Based\\nModel', 'FC-Based\\nModel', 'IEA Cycle-Based\\nModel'])\n",
    "ax.set_xlabel('')\n",
    "ax.legend_.remove()\n",
    "ax.axhline(0.5, color='k', linestyle='--')\n",
    "ax.set_xlim([-0.5, 3.5])\n",
    "ax.set_ylim([0.25, 1.05])\n",
    "plt.show()\n",
    "\n",
    "print('Perm vs Power: ', sp_stats.ttest_rel(data_fig2c_auc['Shuffled IEA Phase'], data_fig2c_auc['Power-Based Model']))\n",
    "print('Perm vs FC: ', sp_stats.ttest_rel(data_fig2c_auc['Shuffled IEA Phase'], data_fig2c_auc['FC-Based Model']))\n",
    "print('Perm vs IEA: ', sp_stats.ttest_rel(data_fig2c_auc['Shuffled IEA Phase'], data_fig2c_auc['IEA Cycle-Based Model']))\n",
    "print('FC vs Power: ', sp_stats.ttest_rel(data_fig2c_auc['FC-Based Model'], data_fig2c_auc['Power-Based Model']))\n",
    "print('FC vs IEA: ', sp_stats.ttest_rel(data_fig2c_auc['FC-Based Model'], data_fig2c_auc['IEA Cycle-Based Model']))"
   ]
  },
  {
   "cell_type": "markdown",
   "id": "17cee245-643f-4f36-8a29-a81981606dbd",
   "metadata": {},
   "source": [
    "## Figure 2d"
   ]
  },
  {
   "cell_type": "markdown",
   "id": "ba5b5598-5aaa-4614-b79e-00bcbb97d9a6",
   "metadata": {},
   "source": [
    "### Load Source Data"
   ]
  },
  {
   "cell_type": "code",
   "execution_count": null,
   "id": "ef45d9ff-7f43-427f-8c31-41f9ff7b1de5",
   "metadata": {},
   "outputs": [],
   "source": [
    "data_fig2d_ppv = pd.read_csv('../source-data/data-fig2d-ppv.csv')\n",
    "data_fig2d_npv = pd.read_csv('../source-data/data-fig2d-npv.csv')"
   ]
  },
  {
   "cell_type": "markdown",
   "id": "eb8945aa-cf69-4cc4-bffc-edddab5238c1",
   "metadata": {},
   "source": [
    "### Performance Comparison by Phase"
   ]
  },
  {
   "cell_type": "markdown",
   "id": "11c6600f-44f9-48c2-a576-701f155088f1",
   "metadata": {},
   "source": [
    "#### Positive Predictive Value"
   ]
  },
  {
   "cell_type": "code",
   "execution_count": null,
   "id": "ba334306-608e-4174-b2d1-add81462e250",
   "metadata": {},
   "outputs": [],
   "source": [
    "mu = data_fig2d_ppv.groupby(['phase']).mean()\n",
    "sd = data_fig2d_ppv.groupby(['phase']).sem()\n",
    "\n",
    "pval_fc = data_fig2d_ppv.groupby(['phase']).apply(lambda x: sp_stats.ttest_rel(x['FC-Based Model'].values, x['IEA Cycle-Based Model'].values)[1])\n",
    "pval_fc = sp_stats.false_discovery_control(pval_fc, method='bh')\n",
    "\n",
    "plt.figure(figsize=(6,6), dpi=300)\n",
    "ax = plt.subplot(111, projection='polar')\n",
    "\n",
    "ax.plot(mu.index, mu['FC-Based Model'], color='b', label='FC')\n",
    "ax.fill_between(mu.index, \n",
    "                mu['FC-Based Model']-sd['FC-Based Model'],\n",
    "                mu['FC-Based Model']+sd['FC-Based Model'],\n",
    "                color='b', alpha=0.1)\n",
    "\n",
    "ax.plot(mu.index, mu['IEA Cycle-Based Model'], color='gold', label='IEA')\n",
    "ax.fill_between(mu.index, \n",
    "                mu['IEA Cycle-Based Model']-sd['IEA Cycle-Based Model'],\n",
    "                mu['IEA Cycle-Based Model']+sd['IEA Cycle-Based Model'],\n",
    "                color='gold', alpha=0.1)\n",
    "\n",
    "ax.plot(mu.index, mu['Shuffled IEA Phase'], color='gray', label='Shuffled')\n",
    "ax.fill_between(mu.index, \n",
    "                mu['Shuffled IEA Phase']-sd['Shuffled IEA Phase'],\n",
    "                mu['Shuffled IEA Phase']+sd['Shuffled IEA Phase'],\n",
    "                color='gray', alpha=0.1)\n",
    "\n",
    "ax.set_ylim([0.0, 1.0])\n",
    "ax.set_theta_offset(np.pi/2)\n",
    "ax.set_theta_direction(-1)\n",
    "ax.set_xticks([0, np.pi/2, np.pi, 3*np.pi/2])\n",
    "ax.set_xticklabels(['Peak', 'Falling', 'Trough', 'Rising'])\n",
    "ax.legend(loc='lower left')\n",
    "for ix in np.flatnonzero(pval_fc < 0.05):\n",
    "    ax.text(mu.index[ix], 0.9, '*', color='k')\n",
    "ax.text(np.pi/8, 1.15, '<PPV>')\n",
    "plt.show()\n",
    "\n",
    "pd.DataFrame(np.array([mu.index, pval_fc]).T, columns=['phase', 'p-value']).to_csv('TableS3-PPV.csv')"
   ]
  },
  {
   "cell_type": "markdown",
   "id": "4ce8ee8f-1a66-4fe2-8eb6-94da553a5d53",
   "metadata": {},
   "source": [
    "#### Negative Predictive Value"
   ]
  },
  {
   "cell_type": "code",
   "execution_count": null,
   "id": "ec590256-04c7-46e8-819b-3b7b9aac2d4b",
   "metadata": {},
   "outputs": [],
   "source": [
    "mu = data_fig2d_npv.groupby(['phase']).mean()\n",
    "sd = data_fig2d_npv.groupby(['phase']).sem()\n",
    "\n",
    "pval_fc = data_fig2d_npv.groupby(['phase']).apply(lambda x: sp_stats.ttest_rel(x['FC-Based Model'].values, x['IEA Cycle-Based Model'].values)[1])\n",
    "pval_fc = sp_stats.false_discovery_control(pval_fc, method='bh')\n",
    "\n",
    "plt.figure(figsize=(6,6), dpi=300)\n",
    "ax = plt.subplot(111, projection='polar')\n",
    "\n",
    "ax.plot(mu.index, mu['FC-Based Model'], color='b', label='FC')\n",
    "ax.fill_between(mu.index, \n",
    "                mu['FC-Based Model']-sd['FC-Based Model'],\n",
    "                mu['FC-Based Model']+sd['FC-Based Model'],\n",
    "                color='b', alpha=0.1)\n",
    "\n",
    "ax.plot(mu.index, mu['IEA Cycle-Based Model'], color='gold', label='IEA')\n",
    "ax.fill_between(mu.index, \n",
    "                mu['IEA Cycle-Based Model']-sd['IEA Cycle-Based Model'],\n",
    "                mu['IEA Cycle-Based Model']+sd['IEA Cycle-Based Model'],\n",
    "                color='gold', alpha=0.1)\n",
    "\n",
    "ax.plot(mu.index, mu['Shuffled IEA Phase'], color='gray', label='Shuffled')\n",
    "ax.fill_between(mu.index, \n",
    "                mu['Shuffled IEA Phase']-sd['Shuffled IEA Phase'],\n",
    "                mu['Shuffled IEA Phase']+sd['Shuffled IEA Phase'],\n",
    "                color='gray', alpha=0.1)\n",
    "\n",
    "ax.set_ylim([0.0, 1.0])\n",
    "ax.set_theta_offset(np.pi/2)\n",
    "ax.set_theta_direction(-1)\n",
    "ax.set_xticks([0, np.pi/2, np.pi, 3*np.pi/2])\n",
    "ax.set_xticklabels(['Peak', 'Falling', 'Trough', 'Rising'])\n",
    "ax.legend(loc='lower left')\n",
    "for ix in np.flatnonzero(pval_fc < 0.05):\n",
    "    ax.text(mu.index[ix], 0.9, '*', color='k')\n",
    "ax.text(np.pi/8, 1.15, '<NPV>')\n",
    "plt.show()\n",
    "\n",
    "pd.DataFrame(np.array([mu.index, pval_fc]).T, columns=['phase', 'p-value']).to_csv('TableS3-NPV.csv')"
   ]
  },
  {
   "cell_type": "code",
   "execution_count": null,
   "id": "a05671b8-214a-4a42-9855-260ab3f07afc",
   "metadata": {},
   "outputs": [],
   "source": []
  }
 ],
 "metadata": {
  "kernelspec": {
   "display_name": "rs-2021-szriskconn",
   "language": "python",
   "name": "rs-2021-szriskconn"
  },
  "language_info": {
   "codemirror_mode": {
    "name": "ipython",
    "version": 3
   },
   "file_extension": ".py",
   "mimetype": "text/x-python",
   "name": "python",
   "nbconvert_exporter": "python",
   "pygments_lexer": "ipython3",
   "version": "3.10.4"
  }
 },
 "nbformat": 4,
 "nbformat_minor": 5
}
