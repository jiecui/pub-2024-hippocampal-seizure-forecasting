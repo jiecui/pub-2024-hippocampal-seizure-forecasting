{
 "cells": [
  {
   "cell_type": "markdown",
   "id": "97c417e6-cf12-4fb9-a9c7-6ef4240b1c7e",
   "metadata": {},
   "source": [
    "# Extended Data Figure 6"
   ]
  },
  {
   "cell_type": "code",
   "execution_count": null,
   "id": "21d6d41b-9985-465e-bfd5-61fc3f539444",
   "metadata": {},
   "outputs": [],
   "source": [
    "import numpy as np\n",
    "import pandas as pd\n",
    "import scipy.stats as sp_stats\n",
    "import matplotlib.pyplot as plt\n",
    "import seaborn as sns\n",
    "from scipy import ndimage"
   ]
  },
  {
   "cell_type": "markdown",
   "id": "ff7d075f-541b-4883-9276-4a027b468e60",
   "metadata": {},
   "source": [
    "## Load Source Data"
   ]
  },
  {
   "cell_type": "code",
   "execution_count": null,
   "id": "b7713feb-75db-4941-a084-4e572ac553ce",
   "metadata": {},
   "outputs": [],
   "source": [
    "data_figext3_cycles = pd.read_csv('../source-data/data-figext3-multidien-cycle-distrib.csv').set_index('NP_code')"
   ]
  },
  {
   "cell_type": "markdown",
   "id": "00080bfe-465f-4539-af30-65deb98aec4c",
   "metadata": {},
   "source": [
    "### Multidien Cycle Distribution"
   ]
  },
  {
   "cell_type": "code",
   "execution_count": null,
   "id": "487ab14c-58e6-4046-a9d6-d77e66a4a522",
   "metadata": {},
   "outputs": [],
   "source": [
    "plt.figure(figsize=(12,6))\n",
    "ax = plt.subplot(111)\n",
    "ax = sns.heatmap(data_figext3_cycles, cmap='Reds', vmin=0, cbar_kws={'label': 'Relative Power (z.s.)'}, ax=ax)\n",
    "tick_mdl = sp_stats.linregress(ax.get_xticks(), [float(lbl.get_text()) for lbl in ax.get_xticklabels()])\n",
    "\n",
    "ticklabels = np.array([4, 7, 14, 21, 30, 45])\n",
    "ax.set_xticks((ticklabels-ticklabels[0])*data_figext3_cycles.shape[1]/(ticklabels[-1]-ticklabels[0]))\n",
    "ax.set_xticklabels(ticklabels)\n",
    "ax.grid(True)\n",
    "ax.set_xlabel('Multiday Period (days)')\n",
    "ax.set_ylabel('')\n",
    "ax.set_title('Periodogram of Multidien IEA Cycle Power')"
   ]
  },
  {
   "cell_type": "code",
   "execution_count": null,
   "id": "68ef72a7-396b-4a12-8323-d3e2b8eb6933",
   "metadata": {},
   "outputs": [],
   "source": []
  }
 ],
 "metadata": {
  "kernelspec": {
   "display_name": "rs-2021-szriskconn",
   "language": "python",
   "name": "rs-2021-szriskconn"
  },
  "language_info": {
   "codemirror_mode": {
    "name": "ipython",
    "version": 3
   },
   "file_extension": ".py",
   "mimetype": "text/x-python",
   "name": "python",
   "nbconvert_exporter": "python",
   "pygments_lexer": "ipython3",
   "version": "3.10.4"
  }
 },
 "nbformat": 4,
 "nbformat_minor": 5
}
